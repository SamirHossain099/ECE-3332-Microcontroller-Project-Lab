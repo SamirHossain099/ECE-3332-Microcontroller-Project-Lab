{
 "cells": [
  {
   "cell_type": "code",
   "execution_count": 18,
   "id": "1d5148fa-6377-4add-a498-074935e16f29",
   "metadata": {},
   "outputs": [],
   "source": [
    "import math\n",
    "import math\n",
    "\n",
    "def calculate_alignment_angles(frame_center, bbox_center):\n",
    "    \"\"\"\n",
    "    Calculate the angles (in degrees) to rotate the camera on the x and y axes\n",
    "    to align a bounding box with the center of the frame.\n",
    "\n",
    "    Args:\n",
    "        frame_center (tuple): The coordinates of the frame center (x, y).\n",
    "        bbox_center (tuple): The coordinates of the bounding box center (x, y).\n",
    "\n",
    "    Returns:\n",
    "        tuple: The angles (in degrees) to rotate the camera on the x and y axes (x_angle, y_angle).\n",
    "    \"\"\"\n",
    "    frame_center_x, frame_center_y = frame_center\n",
    "    bbox_center_x, bbox_center_y = bbox_center\n",
    "\n",
    "    # Calculate the x and y distances between the centers\n",
    "    x_dist = bbox_center_x - frame_center_x\n",
    "    y_dist = bbox_center_y - frame_center_y\n",
    "\n",
    "    # Calculate the angles using atan2\n",
    "    x_angle_rad = math.atan2(y_dist,x_dist)\n",
    "    y_angle_rad = math.atan2(x_dist,y_dist)\n",
    "\n",
    "    # Convert angles from radians to degrees\n",
    "    x_angle_deg = math.degrees(x_angle_rad)\n",
    "    y_angle_deg = math.degrees(y_angle_rad)\n",
    "\n",
    "    return x_angle_deg, y_angle_deg\n",
    "def center_distance(frame, bbox):\n",
    "    width, height = frame.shape[:2]\n",
    "    centerFrameY = width//2\n",
    "    centerFrameX = height//2\n",
    "    x,y,w,h = bbox\n",
    "    centerBBoxX = (x+(w//2))\n",
    "    centerBBoxY = (y+(h//2))\n",
    "\n",
    "    xDist = centerBBoxX - centerFrameX\n",
    "    yDist = centerBBoxY - centerFrameY\n",
    "    return abs(xDist), abs(yDist)"
   ]
  },
  {
   "cell_type": "code",
   "execution_count": 19,
   "id": "236f03cf",
   "metadata": {},
   "outputs": [
    {
     "name": "stdout",
     "output_type": "stream",
     "text": [
      "X deg:  -61.69924423399363 \n",
      "Y deg: 151.69924423399362\n"
     ]
    }
   ],
   "source": [
    "\n",
    "x_angle, y_angle = calculate_alignment_angles((720,360),(860,100))\n",
    "print('X deg: ',x_angle,'\\nY deg:',y_angle)"
   ]
  },
  {
   "cell_type": "code",
   "execution_count": 23,
   "id": "1a88701c",
   "metadata": {},
   "outputs": [
    {
     "ename": "error",
     "evalue": "OpenCV(4.10.0) :-1: error: (-5:Bad argument) in function 'calibrationMatrixValues'\n> Overload resolution failed:\n>  - calibrationMatrixValues() missing required argument 'apertureWidth' (pos 3)\n>  - calibrationMatrixValues() missing required argument 'apertureWidth' (pos 3)\n",
     "output_type": "error",
     "traceback": [
      "\u001b[0;31m---------------------------------------------------------------------------\u001b[0m",
      "\u001b[0;31merror\u001b[0m                                     Traceback (most recent call last)",
      "Cell \u001b[0;32mIn[23], line 9\u001b[0m\n\u001b[1;32m      7\u001b[0m corners \u001b[38;5;241m=\u001b[39m cv2\u001b[38;5;241m.\u001b[39mfindChessboardCorners(gray, (\u001b[38;5;241m7\u001b[39m,\u001b[38;5;241m7\u001b[39m))\n\u001b[1;32m      8\u001b[0m \u001b[38;5;28;01mif\u001b[39;00m corners[\u001b[38;5;241m0\u001b[39m] \u001b[38;5;129;01mis\u001b[39;00m \u001b[38;5;129;01mnot\u001b[39;00m \u001b[38;5;28;01mNone\u001b[39;00m:\n\u001b[0;32m----> 9\u001b[0m     focal_length \u001b[38;5;241m=\u001b[39m \u001b[43mcv2\u001b[49m\u001b[38;5;241;43m.\u001b[39;49m\u001b[43mcalibrationMatrixValues\u001b[49m\u001b[43m(\u001b[49m\u001b[43mcorners\u001b[49m\u001b[43m,\u001b[49m\u001b[43m \u001b[49m\u001b[43mframe\u001b[49m\u001b[38;5;241;43m.\u001b[39;49m\u001b[43mshape\u001b[49m\u001b[43m[\u001b[49m\u001b[43m:\u001b[49m\u001b[38;5;241;43m2\u001b[39;49m\u001b[43m]\u001b[49m\u001b[43m)\u001b[49m[\u001b[38;5;241m0\u001b[39m][\u001b[38;5;241m0\u001b[39m]\n\u001b[1;32m     10\u001b[0m     \u001b[38;5;28mprint\u001b[39m(focal_length)\n\u001b[1;32m     12\u001b[0m cv2\u001b[38;5;241m.\u001b[39mimshow(\u001b[38;5;124m\"\u001b[39m\u001b[38;5;124mfeed\u001b[39m\u001b[38;5;124m\"\u001b[39m,frame1)\n",
      "\u001b[0;31merror\u001b[0m: OpenCV(4.10.0) :-1: error: (-5:Bad argument) in function 'calibrationMatrixValues'\n> Overload resolution failed:\n>  - calibrationMatrixValues() missing required argument 'apertureWidth' (pos 3)\n>  - calibrationMatrixValues() missing required argument 'apertureWidth' (pos 3)\n"
     ]
    }
   ],
   "source": [
    "import cv2\n",
    "cap = cv2.VideoCapture(0)\n",
    "ret, frame = cap.read()\n",
    "ret, frame1 = cap.read()\n",
    "while cap.isOpened():\n",
    "    gray = cv2.cvtColor(frame, cv2.COLOR_BGR2GRAY)\n",
    "    corners = cv2.findChessboardCorners(gray, (7,7))\n",
    "    if corners[0] is not None:\n",
    "        focal_length = cv2.calibrationMatrixValues(corners, frame.shape[:2])[0][0]\n",
    "        print(focal_length)\n",
    "\n",
    "    cv2.imshow(\"feed\",frame1)\n",
    "    frame=frame1\n",
    "    ret, frame1 = cap.read()\n",
    "    if(cv2.waitKey(20) & 0xFF==ord('d')):\n",
    "        break\n",
    "cv2.destroyAllWindows()\n",
    "cap.release()"
   ]
  }
 ],
 "metadata": {
  "kernelspec": {
   "display_name": "Python 3 (ipykernel)",
   "language": "python",
   "name": "python3"
  },
  "language_info": {
   "codemirror_mode": {
    "name": "ipython",
    "version": 3
   },
   "file_extension": ".py",
   "mimetype": "text/x-python",
   "name": "python",
   "nbconvert_exporter": "python",
   "pygments_lexer": "ipython3",
   "version": "3.12.3"
  }
 },
 "nbformat": 4,
 "nbformat_minor": 5
}
