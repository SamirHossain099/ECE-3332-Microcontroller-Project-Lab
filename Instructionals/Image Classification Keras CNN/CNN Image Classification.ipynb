{
 "cells": [
  {
   "cell_type": "code",
   "execution_count": 53,
   "id": "8e00b918-5282-4011-ae29-be316360f79e",
   "metadata": {},
   "outputs": [],
   "source": [
    "import numpy as np\n",
    "import random\n",
    "import matplotlib.pyplot as plt\n",
    "from tensorflow.keras.models import Sequential\n",
    "from tensorflow.keras.layers import Conv2D, MaxPooling2D, Dense, Flatten"
   ]
  },
  {
   "cell_type": "markdown",
   "id": "2f3dd2a1-b8db-4e1b-ade5-b67ee20d5da3",
   "metadata": {},
   "source": [
    "Load Dataset:"
   ]
  },
  {
   "cell_type": "code",
   "execution_count": 57,
   "id": "1d5148fa-6377-4add-a498-074935e16f29",
   "metadata": {},
   "outputs": [],
   "source": [
    "X_train = np.loadtxt('input.csv', delimiter = ',')\n",
    "Y_train = np.loadtxt('labels.csv', delimiter = ',')\n",
    "\n",
    "X_test = np.loadtxt('input_test.csv', delimiter = ',')\n",
    "Y_test = np.loadtxt('labels_test.csv', delimiter = ',')"
   ]
  },
  {
   "cell_type": "code",
   "execution_count": 38,
   "id": "a3cce883",
   "metadata": {},
   "outputs": [
    {
     "name": "stdout",
     "output_type": "stream",
     "text": [
      "Shapeof X_Train:  (2000, 30000)\n",
      "Shapeof Y_Train:  (2000,)\n",
      "Shapeof X_Test:  (400, 30000)\n",
      "Shapeof Y_Test:  (400,)\n",
      "Every image is currently 100x100x3RGB, hence 30000\n"
     ]
    },
    {
     "data": {
      "text/plain": [
       "array([131., 128., 135., ...,  71.,  96.,  74.])"
      ]
     },
     "execution_count": 38,
     "metadata": {},
     "output_type": "execute_result"
    }
   ],
   "source": [
    "print('Shapeof X_Train: ', X_train.shape)\n",
    "print('Shapeof Y_Train: ', Y_train.shape)\n",
    "print('Shapeof X_Test: ', X_test.shape)\n",
    "print('Shapeof Y_Test: ', Y_test.shape)\n",
    "print(\"Every image is currently 100x100x3RGB, hence 30000\")\n",
    "X_train[1,:]"
   ]
  },
  {
   "cell_type": "code",
   "execution_count": 58,
   "id": "ba308fa9",
   "metadata": {},
   "outputs": [
    {
     "name": "stdout",
     "output_type": "stream",
     "text": [
      "Shapeof X_Train:  (2000, 100, 100, 3)\n",
      "Shapeof Y_Train:  (2000, 1)\n",
      "Shapeof X_Test:  (400, 100, 100, 3)\n",
      "Shapeof Y_Test:  (400, 1)\n"
     ]
    },
    {
     "data": {
      "text/plain": [
       "array([[[131., 128., 135.],\n",
       "        [160., 157., 164.],\n",
       "        [198., 192., 204.],\n",
       "        ...,\n",
       "        [250., 249., 247.],\n",
       "        [255., 255., 253.],\n",
       "        [250., 249., 245.]],\n",
       "\n",
       "       [[140., 137., 144.],\n",
       "        [127., 124., 131.],\n",
       "        [120., 114., 124.],\n",
       "        ...,\n",
       "        [251., 253., 252.],\n",
       "        [254., 255., 253.],\n",
       "        [254., 255., 251.]],\n",
       "\n",
       "       [[204., 202., 207.],\n",
       "        [187., 185., 190.],\n",
       "        [147., 142., 148.],\n",
       "        ...,\n",
       "        [249., 255., 255.],\n",
       "        [238., 247., 242.],\n",
       "        [232., 241., 236.]],\n",
       "\n",
       "       ...,\n",
       "\n",
       "       [[174., 182., 195.],\n",
       "        [172., 180., 193.],\n",
       "        [178., 186., 197.],\n",
       "        ...,\n",
       "        [ 87., 114.,  97.],\n",
       "        [ 75.,  99.,  83.],\n",
       "        [ 80., 105.,  86.]],\n",
       "\n",
       "       [[166., 173., 189.],\n",
       "        [164., 172., 185.],\n",
       "        [172., 180., 193.],\n",
       "        ...,\n",
       "        [ 78., 106.,  84.],\n",
       "        [ 72.,  97.,  76.],\n",
       "        [ 77., 102.,  81.]],\n",
       "\n",
       "       [[173., 180., 196.],\n",
       "        [172., 179., 195.],\n",
       "        [174., 182., 195.],\n",
       "        ...,\n",
       "        [ 63.,  91.,  69.],\n",
       "        [ 62.,  87.,  65.],\n",
       "        [ 71.,  96.,  74.]]])"
      ]
     },
     "execution_count": 58,
     "metadata": {},
     "output_type": "execute_result"
    }
   ],
   "source": [
    "X_train = X_train.reshape(len(X_train), 100, 100, 3)\n",
    "Y_train = Y_train.reshape(len(Y_train), 1)\n",
    "X_test = X_test.reshape(len(X_test), 100, 100, 3)\n",
    "Y_test = Y_test.reshape(len(Y_test), 1)\n",
    "print('Shapeof X_Train: ', X_train.shape)\n",
    "print('Shapeof Y_Train: ', Y_train.shape)\n",
    "print('Shapeof X_Test: ', X_test.shape)\n",
    "print('Shapeof Y_Test: ', Y_test.shape)\n",
    "X_train[1,:]"
   ]
  },
  {
   "cell_type": "markdown",
   "id": "97c9d417",
   "metadata": {},
   "source": [
    "To train the model properly, we need to rescale the rgb values from 0 to 1"
   ]
  },
  {
   "cell_type": "code",
   "execution_count": 59,
   "id": "ed73aae4",
   "metadata": {},
   "outputs": [
    {
     "data": {
      "text/plain": [
       "array([[[[0.51372549, 0.50196078, 0.52941176],\n",
       "         [0.62745098, 0.61568627, 0.64313725],\n",
       "         [0.77647059, 0.75294118, 0.8       ],\n",
       "         ...,\n",
       "         [0.98039216, 0.97647059, 0.96862745],\n",
       "         [1.        , 1.        , 0.99215686],\n",
       "         [0.98039216, 0.97647059, 0.96078431]],\n",
       "\n",
       "        [[0.54901961, 0.5372549 , 0.56470588],\n",
       "         [0.49803922, 0.48627451, 0.51372549],\n",
       "         [0.47058824, 0.44705882, 0.48627451],\n",
       "         ...,\n",
       "         [0.98431373, 0.99215686, 0.98823529],\n",
       "         [0.99607843, 1.        , 0.99215686],\n",
       "         [0.99607843, 1.        , 0.98431373]],\n",
       "\n",
       "        [[0.8       , 0.79215686, 0.81176471],\n",
       "         [0.73333333, 0.7254902 , 0.74509804],\n",
       "         [0.57647059, 0.55686275, 0.58039216],\n",
       "         ...,\n",
       "         [0.97647059, 1.        , 1.        ],\n",
       "         [0.93333333, 0.96862745, 0.94901961],\n",
       "         [0.90980392, 0.94509804, 0.9254902 ]],\n",
       "\n",
       "        ...,\n",
       "\n",
       "        [[0.68235294, 0.71372549, 0.76470588],\n",
       "         [0.6745098 , 0.70588235, 0.75686275],\n",
       "         [0.69803922, 0.72941176, 0.77254902],\n",
       "         ...,\n",
       "         [0.34117647, 0.44705882, 0.38039216],\n",
       "         [0.29411765, 0.38823529, 0.3254902 ],\n",
       "         [0.31372549, 0.41176471, 0.3372549 ]],\n",
       "\n",
       "        [[0.65098039, 0.67843137, 0.74117647],\n",
       "         [0.64313725, 0.6745098 , 0.7254902 ],\n",
       "         [0.6745098 , 0.70588235, 0.75686275],\n",
       "         ...,\n",
       "         [0.30588235, 0.41568627, 0.32941176],\n",
       "         [0.28235294, 0.38039216, 0.29803922],\n",
       "         [0.30196078, 0.4       , 0.31764706]],\n",
       "\n",
       "        [[0.67843137, 0.70588235, 0.76862745],\n",
       "         [0.6745098 , 0.70196078, 0.76470588],\n",
       "         [0.68235294, 0.71372549, 0.76470588],\n",
       "         ...,\n",
       "         [0.24705882, 0.35686275, 0.27058824],\n",
       "         [0.24313725, 0.34117647, 0.25490196],\n",
       "         [0.27843137, 0.37647059, 0.29019608]]],\n",
       "\n",
       "\n",
       "       [[[0.31372549, 0.36078431, 0.34509804],\n",
       "         [0.3254902 , 0.37647059, 0.34901961],\n",
       "         [0.29803922, 0.36078431, 0.32156863],\n",
       "         ...,\n",
       "         [0.05490196, 0.1372549 , 0.07843137],\n",
       "         [0.05490196, 0.1372549 , 0.07843137],\n",
       "         [0.07843137, 0.16078431, 0.10196078]],\n",
       "\n",
       "        [[0.30588235, 0.34117647, 0.32941176],\n",
       "         [0.35294118, 0.39607843, 0.37254902],\n",
       "         [0.30980392, 0.35294118, 0.32156863],\n",
       "         ...,\n",
       "         [0.14509804, 0.21176471, 0.14901961],\n",
       "         [0.12156863, 0.18823529, 0.1254902 ],\n",
       "         [0.05098039, 0.11764706, 0.05490196]],\n",
       "\n",
       "        [[0.25098039, 0.25882353, 0.24705882],\n",
       "         [0.31372549, 0.33333333, 0.30980392],\n",
       "         [0.36470588, 0.39215686, 0.36078431],\n",
       "         ...,\n",
       "         [0.15686275, 0.18039216, 0.1254902 ],\n",
       "         [0.15686275, 0.18823529, 0.12941176],\n",
       "         [0.05490196, 0.08627451, 0.02745098]],\n",
       "\n",
       "        ...,\n",
       "\n",
       "        [[0.39215686, 0.42745098, 0.36078431],\n",
       "         [0.36470588, 0.41568627, 0.3372549 ],\n",
       "         [0.35294118, 0.43137255, 0.33333333],\n",
       "         ...,\n",
       "         [0.6745098 , 0.65490196, 0.58039216],\n",
       "         [0.63137255, 0.61176471, 0.5372549 ],\n",
       "         [0.56862745, 0.54901961, 0.4745098 ]],\n",
       "\n",
       "        [[0.38823529, 0.43137255, 0.36470588],\n",
       "         [0.37647059, 0.42745098, 0.34901961],\n",
       "         [0.36078431, 0.43921569, 0.34117647],\n",
       "         ...,\n",
       "         [0.58823529, 0.56862745, 0.49411765],\n",
       "         [0.52156863, 0.50196078, 0.42352941],\n",
       "         [0.57254902, 0.55294118, 0.4745098 ]],\n",
       "\n",
       "        [[0.41568627, 0.45882353, 0.39215686],\n",
       "         [0.4       , 0.45882353, 0.37647059],\n",
       "         [0.36862745, 0.44705882, 0.34901961],\n",
       "         ...,\n",
       "         [0.52156863, 0.50196078, 0.42745098],\n",
       "         [0.46666667, 0.44705882, 0.36862745],\n",
       "         [0.48627451, 0.46666667, 0.38823529]]],\n",
       "\n",
       "\n",
       "       [[[0.58431373, 0.67843137, 0.59215686],\n",
       "         [0.51372549, 0.6       , 0.51764706],\n",
       "         [0.61176471, 0.67843137, 0.60784314],\n",
       "         ...,\n",
       "         [0.71372549, 0.79607843, 0.6745098 ],\n",
       "         [0.74901961, 0.83137255, 0.70980392],\n",
       "         [0.72941176, 0.81176471, 0.69019608]],\n",
       "\n",
       "        [[0.36862745, 0.45490196, 0.37254902],\n",
       "         [0.46666667, 0.54117647, 0.4627451 ],\n",
       "         [0.57647059, 0.63529412, 0.56078431],\n",
       "         ...,\n",
       "         [0.71372549, 0.79215686, 0.68627451],\n",
       "         [0.76862745, 0.84705882, 0.74117647],\n",
       "         [0.77647059, 0.85490196, 0.74901961]],\n",
       "\n",
       "        [[0.23137255, 0.29019608, 0.20784314],\n",
       "         [0.48235294, 0.54117647, 0.45882353],\n",
       "         [0.67058824, 0.71764706, 0.63921569],\n",
       "         ...,\n",
       "         [0.70588235, 0.78823529, 0.71372549],\n",
       "         [0.76078431, 0.84313725, 0.76862745],\n",
       "         [0.78823529, 0.87058824, 0.79607843]],\n",
       "\n",
       "        ...,\n",
       "\n",
       "        [[0.43137255, 0.48235294, 0.55686275],\n",
       "         [0.4       , 0.45098039, 0.5254902 ],\n",
       "         [0.2627451 , 0.31372549, 0.38823529],\n",
       "         ...,\n",
       "         [0.11764706, 0.11764706, 0.15686275],\n",
       "         [0.10980392, 0.10980392, 0.14901961],\n",
       "         [0.11372549, 0.11372549, 0.15294118]],\n",
       "\n",
       "        [[0.42352941, 0.48235294, 0.55686275],\n",
       "         [0.4745098 , 0.53333333, 0.60784314],\n",
       "         [0.39607843, 0.45490196, 0.52941176],\n",
       "         ...,\n",
       "         [0.15686275, 0.15686275, 0.19607843],\n",
       "         [0.16078431, 0.16078431, 0.2       ],\n",
       "         [0.17254902, 0.17254902, 0.21176471]],\n",
       "\n",
       "        [[0.42352941, 0.48235294, 0.55686275],\n",
       "         [0.34117647, 0.4       , 0.4745098 ],\n",
       "         [0.37254902, 0.43137255, 0.50588235],\n",
       "         ...,\n",
       "         [0.18823529, 0.18823529, 0.22745098],\n",
       "         [0.2       , 0.2       , 0.23921569],\n",
       "         [0.21960784, 0.21960784, 0.25882353]]],\n",
       "\n",
       "\n",
       "       ...,\n",
       "\n",
       "\n",
       "       [[[0.90588235, 0.88627451, 0.90196078],\n",
       "         [0.9372549 , 0.92156863, 0.9254902 ],\n",
       "         [0.95294118, 0.9372549 , 0.93333333],\n",
       "         ...,\n",
       "         [0.92941176, 0.89411765, 0.83529412],\n",
       "         [0.76470588, 0.7254902 , 0.67843137],\n",
       "         [0.83921569, 0.8       , 0.75294118]],\n",
       "\n",
       "        [[0.95686275, 0.93333333, 0.94901961],\n",
       "         [0.8627451 , 0.84705882, 0.85098039],\n",
       "         [0.97254902, 0.95294118, 0.94117647],\n",
       "         ...,\n",
       "         [0.91764706, 0.87058824, 0.80784314],\n",
       "         [0.72156863, 0.6745098 , 0.61960784],\n",
       "         [0.76078431, 0.71372549, 0.65882353]],\n",
       "\n",
       "        [[0.91372549, 0.87843137, 0.89019608],\n",
       "         [0.85098039, 0.82745098, 0.82745098],\n",
       "         [0.9372549 , 0.90588235, 0.89411765],\n",
       "         ...,\n",
       "         [0.94509804, 0.87843137, 0.81568627],\n",
       "         [0.79607843, 0.72941176, 0.66666667],\n",
       "         [0.82352941, 0.75686275, 0.69411765]],\n",
       "\n",
       "        ...,\n",
       "\n",
       "        [[0.03137255, 0.00784314, 0.00784314],\n",
       "         [0.03921569, 0.02352941, 0.01960784],\n",
       "         [0.05098039, 0.03529412, 0.02352941],\n",
       "         ...,\n",
       "         [0.29803922, 0.30980392, 0.3372549 ],\n",
       "         [0.27058824, 0.28235294, 0.30980392],\n",
       "         [0.25882353, 0.27058824, 0.29803922]],\n",
       "\n",
       "        [[0.18823529, 0.17254902, 0.16862745],\n",
       "         [0.19215686, 0.18823529, 0.18039216],\n",
       "         [0.19607843, 0.19215686, 0.18431373],\n",
       "         ...,\n",
       "         [0.29411765, 0.30588235, 0.33333333],\n",
       "         [0.27058824, 0.28235294, 0.30980392],\n",
       "         [0.25490196, 0.26666667, 0.29411765]],\n",
       "\n",
       "        [[0.25882353, 0.25490196, 0.24705882],\n",
       "         [0.27058824, 0.26666667, 0.25882353],\n",
       "         [0.2745098 , 0.2745098 , 0.26666667],\n",
       "         ...,\n",
       "         [0.29019608, 0.30196078, 0.32941176],\n",
       "         [0.26666667, 0.27843137, 0.30588235],\n",
       "         [0.24313725, 0.25490196, 0.28235294]]],\n",
       "\n",
       "\n",
       "       [[[0.23921569, 0.23921569, 0.24705882],\n",
       "         [0.09411765, 0.09019608, 0.10980392],\n",
       "         [0.09803922, 0.09803922, 0.12941176],\n",
       "         ...,\n",
       "         [0.18431373, 0.2       , 0.20392157],\n",
       "         [0.17647059, 0.19215686, 0.19607843],\n",
       "         [0.17647059, 0.19215686, 0.19607843]],\n",
       "\n",
       "        [[0.04313725, 0.04705882, 0.05490196],\n",
       "         [0.0627451 , 0.07843137, 0.08235294],\n",
       "         [0.07058824, 0.08235294, 0.10980392],\n",
       "         ...,\n",
       "         [0.25882353, 0.2745098 , 0.27843137],\n",
       "         [0.23921569, 0.25490196, 0.26666667],\n",
       "         [0.23137255, 0.24705882, 0.25098039]],\n",
       "\n",
       "        [[0.01176471, 0.04705882, 0.03529412],\n",
       "         [0.06666667, 0.10196078, 0.09019608],\n",
       "         [0.13333333, 0.16470588, 0.17647059],\n",
       "         ...,\n",
       "         [0.32941176, 0.34901961, 0.36078431],\n",
       "         [0.29019608, 0.30980392, 0.3254902 ],\n",
       "         [0.2745098 , 0.29411765, 0.30588235]],\n",
       "\n",
       "        ...,\n",
       "\n",
       "        [[0.57647059, 0.56862745, 0.62352941],\n",
       "         [0.53333333, 0.52156863, 0.58823529],\n",
       "         [0.51764706, 0.50588235, 0.57254902],\n",
       "         ...,\n",
       "         [0.48627451, 0.43137255, 0.41960784],\n",
       "         [0.45098039, 0.39607843, 0.38431373],\n",
       "         [0.50980392, 0.45490196, 0.44313725]],\n",
       "\n",
       "        [[0.54509804, 0.53333333, 0.6       ],\n",
       "         [0.50588235, 0.49411765, 0.56078431],\n",
       "         [0.50196078, 0.49019608, 0.56470588],\n",
       "         ...,\n",
       "         [0.45882353, 0.40392157, 0.4       ],\n",
       "         [0.36862745, 0.31372549, 0.30980392],\n",
       "         [0.43529412, 0.39215686, 0.38431373]],\n",
       "\n",
       "        [[0.52941176, 0.51764706, 0.58431373],\n",
       "         [0.47843137, 0.46666667, 0.53333333],\n",
       "         [0.56078431, 0.54901961, 0.63137255],\n",
       "         ...,\n",
       "         [0.58431373, 0.52941176, 0.52941176],\n",
       "         [0.48235294, 0.43529412, 0.43529412],\n",
       "         [0.52941176, 0.48235294, 0.48235294]]],\n",
       "\n",
       "\n",
       "       [[[0.25098039, 0.12156863, 0.04705882],\n",
       "         [0.4627451 , 0.24705882, 0.16470588],\n",
       "         [0.76470588, 0.36470588, 0.27843137],\n",
       "         ...,\n",
       "         [0.3372549 , 0.17647059, 0.09803922],\n",
       "         [0.32941176, 0.18039216, 0.09803922],\n",
       "         [0.33333333, 0.18431373, 0.10196078]],\n",
       "\n",
       "        [[0.21568627, 0.11372549, 0.04705882],\n",
       "         [0.34509804, 0.15686275, 0.07843137],\n",
       "         [0.69803922, 0.31372549, 0.21568627],\n",
       "         ...,\n",
       "         [0.35686275, 0.19215686, 0.09803922],\n",
       "         [0.34117647, 0.18431373, 0.08627451],\n",
       "         [0.33333333, 0.17647059, 0.07843137]],\n",
       "\n",
       "        [[0.16862745, 0.12156863, 0.05882353],\n",
       "         [0.29803922, 0.15294118, 0.07843137],\n",
       "         [0.6       , 0.24705882, 0.14117647],\n",
       "         ...,\n",
       "         [0.37647059, 0.2       , 0.08627451],\n",
       "         [0.35294118, 0.17647059, 0.0627451 ],\n",
       "         [0.3372549 , 0.16078431, 0.04705882]],\n",
       "\n",
       "        ...,\n",
       "\n",
       "        [[0.51764706, 0.43529412, 0.32156863],\n",
       "         [0.50196078, 0.41960784, 0.30588235],\n",
       "         [0.56078431, 0.48627451, 0.36862745],\n",
       "         ...,\n",
       "         [0.35686275, 0.30588235, 0.23921569],\n",
       "         [0.29019608, 0.23529412, 0.18431373],\n",
       "         [0.25098039, 0.19607843, 0.14509804]],\n",
       "\n",
       "        [[0.47058824, 0.38823529, 0.2745098 ],\n",
       "         [0.50588235, 0.42352941, 0.30980392],\n",
       "         [0.53333333, 0.45882353, 0.34117647],\n",
       "         ...,\n",
       "         [0.44313725, 0.39215686, 0.3254902 ],\n",
       "         [0.29803922, 0.24313725, 0.19215686],\n",
       "         [0.25882353, 0.21176471, 0.15686275]],\n",
       "\n",
       "        [[0.49019608, 0.40784314, 0.29411765],\n",
       "         [0.5254902 , 0.44313725, 0.32941176],\n",
       "         [0.47843137, 0.40392157, 0.28627451],\n",
       "         ...,\n",
       "         [0.43529412, 0.38431373, 0.31764706],\n",
       "         [0.2745098 , 0.22745098, 0.17254902],\n",
       "         [0.23921569, 0.19215686, 0.1372549 ]]]])"
      ]
     },
     "execution_count": 59,
     "metadata": {},
     "output_type": "execute_result"
    }
   ],
   "source": [
    "X_train = X_train/255.0\n",
    "#Y_train = Y_train/255.0\n",
    "X_test = X_test/255.0\n",
    "#Y_test = Y_test/255.0\n",
    "Y_train = Y_train.astype('float32')\n",
    "Y_test = Y_test.astype('float32')\n",
    "X_train[1:]"
   ]
  },
  {
   "cell_type": "markdown",
   "id": "305aac62",
   "metadata": {},
   "source": [
    "Now lets look at the images:"
   ]
  },
  {
   "cell_type": "code",
   "execution_count": 60,
   "id": "49aaf1ab",
   "metadata": {},
   "outputs": [
    {
     "data": {
      "image/png": "[encoded data removed]",
      "text/plain": [
       "<Figure size 640x480 with 1 Axes>"
      ]
     },
     "metadata": {},
     "output_type": "display_data"
    }
   ],
   "source": [
    "idx = random.randint(0,len(X_train))\n",
    "plt.imshow(X_train[idx, :])\n",
    "plt.show()"
   ]
  },
  {
   "cell_type": "markdown",
   "id": "2ecd98aa",
   "metadata": {},
   "source": [
    "We are done with preparing the dataset, and are ready to start building the model."
   ]
  },
  {
   "cell_type": "code",
   "execution_count": 45,
   "id": "cd7be7f2",
   "metadata": {},
   "outputs": [
    {
     "name": "stderr",
     "output_type": "stream",
     "text": [
      "/Library/Frameworks/Python.framework/Versions/3.12/lib/python3.12/site-packages/keras/src/layers/convolutional/base_conv.py:107: UserWarning: Do not pass an `input_shape`/`input_dim` argument to a layer. When using Sequential models, prefer using an `Input(shape)` object as the first layer in the model instead.\n",
      "  super().__init__(activity_regularizer=activity_regularizer, **kwargs)\n"
     ]
    },
    {
     "ename": "TypeError",
     "evalue": "Sequential.__init__() takes from 1 to 4 positional arguments but 8 were given",
     "output_type": "error",
     "traceback": [
      "\u001b[0;31m---------------------------------------------------------------------------\u001b[0m",
      "\u001b[0;31mTypeError\u001b[0m                                 Traceback (most recent call last)",
      "Cell \u001b[0;32mIn[45], line 1\u001b[0m\n\u001b[0;32m----> 1\u001b[0m model \u001b[38;5;241m=\u001b[39m \u001b[43mSequential\u001b[49m\u001b[43m(\u001b[49m\n\u001b[1;32m      2\u001b[0m \u001b[43m    \u001b[49m\u001b[43mConv2D\u001b[49m\u001b[43m(\u001b[49m\u001b[38;5;241;43m32\u001b[39;49m\u001b[43m,\u001b[49m\u001b[43m \u001b[49m\u001b[43m(\u001b[49m\u001b[38;5;241;43m3\u001b[39;49m\u001b[43m,\u001b[49m\u001b[38;5;241;43m3\u001b[39;49m\u001b[43m)\u001b[49m\u001b[43m,\u001b[49m\u001b[43m \u001b[49m\u001b[43mactivation\u001b[49m\u001b[43m \u001b[49m\u001b[38;5;241;43m=\u001b[39;49m\u001b[43m \u001b[49m\u001b[38;5;124;43m'\u001b[39;49m\u001b[38;5;124;43mrelu\u001b[39;49m\u001b[38;5;124;43m'\u001b[39;49m\u001b[43m,\u001b[49m\u001b[43m \u001b[49m\u001b[43minput_shape\u001b[49m\u001b[43m \u001b[49m\u001b[38;5;241;43m=\u001b[39;49m\u001b[43m \u001b[49m\u001b[43m(\u001b[49m\u001b[38;5;241;43m100\u001b[39;49m\u001b[43m,\u001b[49m\u001b[38;5;241;43m100\u001b[39;49m\u001b[43m,\u001b[49m\u001b[38;5;241;43m3\u001b[39;49m\u001b[43m)\u001b[49m\u001b[43m)\u001b[49m\u001b[43m,\u001b[49m\n\u001b[1;32m      3\u001b[0m \u001b[43m    \u001b[49m\u001b[43mMaxPooling2D\u001b[49m\u001b[43m(\u001b[49m\u001b[43m(\u001b[49m\u001b[38;5;241;43m2\u001b[39;49m\u001b[43m,\u001b[49m\u001b[38;5;241;43m2\u001b[39;49m\u001b[43m)\u001b[49m\u001b[43m)\u001b[49m\u001b[43m,\u001b[49m\n\u001b[1;32m      4\u001b[0m \u001b[43m    \u001b[49m\u001b[43mConv2D\u001b[49m\u001b[43m(\u001b[49m\u001b[38;5;241;43m32\u001b[39;49m\u001b[43m,\u001b[49m\u001b[43m \u001b[49m\u001b[43m(\u001b[49m\u001b[38;5;241;43m3\u001b[39;49m\u001b[43m,\u001b[49m\u001b[38;5;241;43m3\u001b[39;49m\u001b[43m)\u001b[49m\u001b[43m,\u001b[49m\u001b[43m \u001b[49m\u001b[43mactivation\u001b[49m\u001b[43m \u001b[49m\u001b[38;5;241;43m=\u001b[39;49m\u001b[43m \u001b[49m\u001b[38;5;124;43m'\u001b[39;49m\u001b[38;5;124;43mrelu\u001b[39;49m\u001b[38;5;124;43m'\u001b[39;49m\u001b[43m)\u001b[49m\u001b[43m,\u001b[49m\n\u001b[1;32m      5\u001b[0m \u001b[43m    \u001b[49m\u001b[43mMaxPooling2D\u001b[49m\u001b[43m(\u001b[49m\u001b[43m(\u001b[49m\u001b[38;5;241;43m2\u001b[39;49m\u001b[43m,\u001b[49m\u001b[38;5;241;43m2\u001b[39;49m\u001b[43m)\u001b[49m\u001b[43m)\u001b[49m\u001b[43m,\u001b[49m\n\u001b[1;32m      6\u001b[0m \u001b[43m    \u001b[49m\u001b[43mFlatten\u001b[49m\u001b[43m(\u001b[49m\u001b[43m)\u001b[49m\u001b[43m,\u001b[49m\n\u001b[1;32m      7\u001b[0m \u001b[43m    \u001b[49m\u001b[43mDense\u001b[49m\u001b[43m(\u001b[49m\u001b[38;5;241;43m64\u001b[39;49m\u001b[43m,\u001b[49m\u001b[43mactivation\u001b[49m\u001b[38;5;241;43m=\u001b[39;49m\u001b[38;5;124;43m'\u001b[39;49m\u001b[38;5;124;43mrelu\u001b[39;49m\u001b[38;5;124;43m'\u001b[39;49m\u001b[43m)\u001b[49m\u001b[43m,\u001b[49m\n\u001b[1;32m      8\u001b[0m \u001b[43m    \u001b[49m\u001b[43mDense\u001b[49m\u001b[43m(\u001b[49m\u001b[38;5;241;43m1\u001b[39;49m\u001b[43m,\u001b[49m\u001b[43m \u001b[49m\u001b[43mactivation\u001b[49m\u001b[38;5;241;43m=\u001b[39;49m\u001b[38;5;124;43m'\u001b[39;49m\u001b[38;5;124;43msigmoid\u001b[39;49m\u001b[38;5;124;43m'\u001b[39;49m\u001b[43m)\u001b[49m\n\u001b[1;32m      9\u001b[0m \u001b[43m)\u001b[49m\n",
      "\u001b[0;31mTypeError\u001b[0m: Sequential.__init__() takes from 1 to 4 positional arguments but 8 were given"
     ]
    }
   ],
   "source": [
    "model = Sequential(\n",
    "    Conv2D(32, (3,3), activation = 'relu', input_shape = (100,100,3)),\n",
    "    MaxPooling2D((2,2)),\n",
    "    Conv2D(32, (3,3), activation = 'relu'),\n",
    "    MaxPooling2D((2,2)),\n",
    "    Flatten(),\n",
    "    Dense(64,activation='relu'),\n",
    "    Dense(1, activation='sigmoid')\n",
    ")"
   ]
  },
  {
   "cell_type": "code",
   "execution_count": 61,
   "id": "9ab2775a",
   "metadata": {},
   "outputs": [
    {
     "name": "stderr",
     "output_type": "stream",
     "text": [
      "/Library/Frameworks/Python.framework/Versions/3.12/lib/python3.12/site-packages/keras/src/layers/convolutional/base_conv.py:107: UserWarning: Do not pass an `input_shape`/`input_dim` argument to a layer. When using Sequential models, prefer using an `Input(shape)` object as the first layer in the model instead.\n",
      "  super().__init__(activity_regularizer=activity_regularizer, **kwargs)\n"
     ]
    }
   ],
   "source": [
    "#Above is one way to define the model we want in keras:\n",
    "#This is another way:\n",
    "model1 = Sequential()\n",
    "\n",
    "model1.add(Conv2D(32, (3,3), activation = 'relu', input_shape = (100,100,3)))\n",
    "model1.add(MaxPooling2D((2,2)))\n",
    "\n",
    "model1.add(Conv2D(32, (3,3), activation = 'relu'))\n",
    "model1.add(MaxPooling2D((2,2)))\n",
    "\n",
    "model1.add(Flatten())\n",
    "model1.add(Dense(64,activation='relu'))\n",
    "model1.add(Dense(1, activation='sigmoid'))"
   ]
  },
  {
   "cell_type": "markdown",
   "id": "57edfc0f",
   "metadata": {},
   "source": [
    "Sequential means the layers will be stacked in a sequence\n",
    "For Conv2D:\n",
    "32 is the number of the filters\n",
    "(3,3) is the size of the filters\n",
    "activvation function is \"relu\"\n",
    "the input shape is the size of the image\n",
    "\n",
    "For MaxPoolin2D:\n",
    "(2,2) is the filter size\n",
    "\n",
    "For the second Conv2D: \n",
    "All is the same but we do not need to specify the input shape\n",
    "\n",
    "Next the nodes are flattened:\n",
    "using Flatten(),\n",
    "\n",
    "Next Dense layers are used:\n",
    "64 is the number of output\n",
    "the activiation function is relu\n",
    "\n",
    "A final dense layer is used:\n",
    "1 is the number of activation neurons\n",
    "since this is the output layer and we only have 1 output, the sigmoid activation function is used for binary classification."
   ]
  },
  {
   "cell_type": "markdown",
   "id": "a78ed1eb",
   "metadata": {},
   "source": [
    "Now that the model is constructed, we need to implement the back propagation and cost function:"
   ]
  },
  {
   "cell_type": "code",
   "execution_count": 62,
   "id": "b1d8a072",
   "metadata": {},
   "outputs": [],
   "source": [
    "model1.compile(loss = 'binary_crossentropy',optimizer='adam',metrics=['accuracy'])"
   ]
  },
  {
   "cell_type": "markdown",
   "id": "c7ed89c6",
   "metadata": {},
   "source": [
    "There are many loss function, optimizer, and metric options through keras.\n",
    "To clarify, the metrics parameter defines what we want to optimize for. "
   ]
  },
  {
   "cell_type": "markdown",
   "id": "fa71b15c",
   "metadata": {},
   "source": [
    "Now, we need to train the model based off our data:"
   ]
  },
  {
   "cell_type": "code",
   "execution_count": 63,
   "metadata": {},
   "outputs": [
    {
     "name": "stdout",
     "output_type": "stream",
     "text": [
      "Epoch 1/5\n",
      "\u001b[1m32/32\u001b[0m \u001b[32m━━━━━━━━━━━━━━━━━━━━\u001b[0m\u001b[37m\u001b[0m \u001b[1m13s\u001b[0m 287ms/step - accuracy: 0.4851 - loss: 0.8989\n",
      "Epoch 2/5\n",
      "\u001b[1m32/32\u001b[0m \u001b[32m━━━━━━━━━━━━━━━━━━━━\u001b[0m\u001b[37m\u001b[0m \u001b[1m9s\u001b[0m 284ms/step - accuracy: 0.5023 - loss: 0.6921\n",
      "Epoch 3/5\n",
      "\u001b[1m32/32\u001b[0m \u001b[32m━━━━━━━━━━━━━━━━━━━━\u001b[0m\u001b[37m\u001b[0m \u001b[1m10s\u001b[0m 299ms/step - accuracy: 0.5129 - loss: 0.6917\n",
      "Epoch 4/5\n",
      "\u001b[1m32/32\u001b[0m \u001b[32m━━━━━━━━━━━━━━━━━━━━\u001b[0m\u001b[37m\u001b[0m \u001b[1m10s\u001b[0m 309ms/step - accuracy: 0.5991 - loss: 0.6628\n",
      "Epoch 5/5\n",
      "\u001b[1m32/32\u001b[0m \u001b[32m━━━━━━━━━━━━━━━━━━━━\u001b[0m\u001b[37m\u001b[0m \u001b[1m10s\u001b[0m 296ms/step - accuracy: 0.6475 - loss: 0.6291\n"
     ]
    },
    {
     "data": {
      "text/plain": [
       "<keras.src.callbacks.history.History at 0x13ceef920>"
      ]
     },
     "execution_count": 63,
     "metadata": {},
     "output_type": "execute_result"
    }
   ],
   "source": [
    "model1.fit(X_train, Y_train, epochs = 5,batch_size=64)"
   ]
  },
  {
   "cell_type": "markdown",
   "id": "4432d890",
   "metadata": {},
   "source": [
    "Now that the training is done we can test the accuracy:"
   ]
  },
  {
   "cell_type": "code",
   "execution_count": 64,
   "id": "83bf7196",
   "metadata": {},
   "outputs": [
    {
     "name": "stdout",
     "output_type": "stream",
     "text": [
      "\u001b[1m13/13\u001b[0m \u001b[32m━━━━━━━━━━━━━━━━━━━━\u001b[0m\u001b[37m\u001b[0m \u001b[1m1s\u001b[0m 38ms/step - accuracy: 0.6414 - loss: 0.6199\n"
     ]
    },
    {
     "data": {
      "text/plain": [
       "[0.6151081323623657, 0.6549999713897705]"
      ]
     },
     "execution_count": 64,
     "metadata": {},
     "output_type": "execute_result"
    }
   ],
   "source": [
    "model1.evaluate(X_test,Y_test)"
   ]
  },
  {
   "cell_type": "markdown",
   "id": "bf10edeb",
   "metadata": {},
   "source": [
    "The accuracy for this model is only 64% with a larger data set and tweaking the model we may be able to improve it."
   ]
  },
  {
   "cell_type": "markdown",
   "id": "d5fc28c1",
   "metadata": {},
   "source": [
    "Here is how to make predictions:"
   ]
  },
  {
   "cell_type": "code",
   "execution_count": 85,
   "id": "29bb89de",
   "metadata": {},
   "outputs": [
    {
     "data": {
      "image/png": "[encoded data removed]",
      "text/plain": [
       "<Figure size 640x480 with 1 Axes>"
      ]
     },
     "metadata": {},
     "output_type": "display_data"
    },
    {
     "name": "stdout",
     "output_type": "stream",
     "text": [
      "\u001b[1m1/1\u001b[0m \u001b[32m━━━━━━━━━━━━━━━━━━━━\u001b[0m\u001b[37m\u001b[0m \u001b[1m0s\u001b[0m 32ms/step\n",
      "Our model predicts this is an image of a  dog\n"
     ]
    }
   ],
   "source": [
    "idx2 = random.randint(0,len(Y_test))\n",
    "plt.imshow(X_test[idx2, :])\n",
    "plt.show()\n",
    "y_pred = model1.predict(X_test[idx2, :].reshape(1,100,100,3))\n",
    "y_pred = y_pred > 0.5\n",
    "if(y_pred == 0):\n",
    "    pred = 'dog'\n",
    "else:\n",
    "    pred = 'cat'\n",
    "print(\"Our model predicts this is an image of a \",pred)"
   ]
  }
 ],
 "metadata": {
  "kernelspec": {
   "display_name": "Python 3 (ipykernel)",
   "language": "python",
   "name": "python3"
  },
  "language_info": {
   "codemirror_mode": {
    "name": "ipython",
    "version": 3
   },
   "file_extension": ".py",
   "mimetype": "text/x-python",
   "name": "python",
   "nbconvert_exporter": "python",
   "pygments_lexer": "ipython3",
   "version": "3.12.3"
  }
 },
 "nbformat": 4,
 "nbformat_minor": 5
}
